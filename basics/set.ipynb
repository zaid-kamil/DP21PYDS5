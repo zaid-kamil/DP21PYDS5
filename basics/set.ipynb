{
 "cells": [
  {
   "cell_type": "markdown",
   "metadata": {},
   "source": [
    "# set\n",
    "### properties\n",
    "- is unordered\n",
    "- is unindexed\n",
    "- is mutable (dynamic can only store immutable data)\n",
    "- is heterogenous (can store diffrent datatype element)\n",
    "- is represented by square bracket `{ }`\n",
    "- has a function called `set()` \n",
    "- hold only unique elements\n",
    "- cannot be nested\n"
   ]
  },
  {
   "cell_type": "markdown",
   "metadata": {},
   "source": [
    "# what u need to learn\n",
    "- create \n",
    "- loop\n",
    "- operations\n",
    "- functions\n",
    "- comprehension\n",
    "- map and filter\n"
   ]
  },
  {
   "cell_type": "markdown",
   "metadata": {},
   "source": []
  }
 ],
 "metadata": {
  "language_info": {
   "name": "python"
  },
  "orig_nbformat": 4
 },
 "nbformat": 4,
 "nbformat_minor": 2
}
