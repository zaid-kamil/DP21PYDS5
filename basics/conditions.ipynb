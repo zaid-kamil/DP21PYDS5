{
 "cells": [
  {
   "cell_type": "markdown",
   "metadata": {},
   "source": [
    "# conditions\n",
    "1. `if` -> one condition but for only True case\n",
    "2. `if else` -> one condition but both situation (True/False)\n",
    "3. `if elif else` ->  multiple condition \n",
    "4. `match` (python v3.10) -> multiple condition but smaller code\n",
    "\n",
    "# Python Indentation\n",
    "python uses indentation of 4 spaces/1 tab to create block of code\n",
    "\n",
    "A block of code is an logical area, where we perform some operations related to a context\n",
    "\n",
    "A  block of code start with keywords like `if, for, def, class, etc`\n",
    "and also with a colon `:` at the first line of block\n",
    "\n",
    "block ends when we write some code outside the indentation (remove indentation)\n",
    "\n"
   ]
  },
  {
   "cell_type": "code",
   "execution_count": 1,
   "metadata": {},
   "outputs": [],
   "source": [
    "a = 10\n",
    "b = 15"
   ]
  },
  {
   "cell_type": "code",
   "execution_count": 3,
   "metadata": {},
   "outputs": [
    {
     "name": "stdout",
     "output_type": "stream",
     "text": [
      "Amazing answer\n"
     ]
    }
   ],
   "source": [
    "if a < b:\n",
    "    print(\"Amazing answer\")"
   ]
  },
  {
   "cell_type": "code",
   "execution_count": 4,
   "metadata": {},
   "outputs": [],
   "source": [
    "if a > b:\n",
    "    print(\"Amazing answer\")"
   ]
  },
  {
   "cell_type": "code",
   "execution_count": 10,
   "metadata": {},
   "outputs": [
    {
     "name": "stdout",
     "output_type": "stream",
     "text": [
      "The weather is cold\n",
      "I should probably wear a Jacket before going out\n"
     ]
    }
   ],
   "source": [
    "temp = float(input(\"enter the temp in C degree\"))\n",
    "if temp <= 15:\n",
    "    print(\"The weather is cold\")\n",
    "    print(\"I should probably wear a Jacket before going out\")"
   ]
  },
  {
   "cell_type": "code",
   "execution_count": 12,
   "metadata": {},
   "outputs": [
    {
     "name": "stdout",
     "output_type": "stream",
     "text": [
      "Not Nice at all\n"
     ]
    }
   ],
   "source": [
    "x = 12\n",
    "if x == 13:\n",
    "    print(\"Nice\")\n",
    "else:\n",
    "    print('Not Nice at all')"
   ]
  },
  {
   "cell_type": "code",
   "execution_count": 15,
   "metadata": {},
   "outputs": [
    {
     "name": "stdout",
     "output_type": "stream",
     "text": [
      "The ⛅ is cold\n",
      "I should probably wear a 🧥 before going out\n"
     ]
    }
   ],
   "source": [
    "temp = float(input(\"enter the temp in C degree\"))\n",
    "if temp <= 15:\n",
    "    print(\"The ⛅ is cold\")\n",
    "    print(\"I should probably wear a 🧥 before going out\")\n",
    "else:\n",
    "    print('The ⛅ seem ok')\n",
    "    print(\"I should buy 🍕 to eat\")"
   ]
  },
  {
   "cell_type": "code",
   "execution_count": 22,
   "metadata": {},
   "outputs": [
    {
     "name": "stdout",
     "output_type": "stream",
     "text": [
      "You are an Adult 👨‍⚖️ \n"
     ]
    }
   ],
   "source": [
    "age = int(input('enter ur Age:'))\n",
    "\n",
    "if age <= 10:\n",
    "    print(\"You are a Kid 👶 \")\n",
    "elif age >= 11 and age <= 20:\n",
    "    print(\"You are a Teenager 🤦‍♂️ \")  \n",
    "elif age >=21 and age <=60 :\n",
    "    print(\"You are an Adult 👨‍⚖️ \")\n",
    "elif age >=61 and age <=100:\n",
    "    print(\"You are old.👴\")\n",
    "else:\n",
    "    print('this program is meant for Humans 😱')"
   ]
  },
  {
   "cell_type": "markdown",
   "metadata": {},
   "source": [
    "### write a program \n",
    "to display movie stars⭐ based on your score of a movie out of\n",
    "100 . Example if ur score is 50, then show 3 ⭐⭐⭐, if score is 70 or more\n",
    "show 4 ⭐⭐⭐⭐. and so on. Use `if elif else`\n"
   ]
  },
  {
   "cell_type": "markdown",
   "metadata": {},
   "source": [
    "# Nesting Condition"
   ]
  },
  {
   "cell_type": "code",
   "execution_count": null,
   "metadata": {},
   "outputs": [],
   "source": [
    "color = input(\"Color:\")\n",
    "shape = input('Shape (long/round) :')\n",
    "if color == \"yellow\":\n",
    "    if shape == \"long\":\n",
    "        print(\"The fruit u are looking for is BANANA\")\n",
    "    elif shape == \"round\":\n",
    "        print(\"The fruit is a MUSKMELLON\")\n",
    "if color == \"Green\":\n",
    "    if shape == \"round\":\n",
    "        print(\"The Fruit could be Grape\")\n",
    "    elif shape == \"long\":\n",
    "        print(\"i dont know\")\n",
    "    else:\n",
    "        print(\"is this a vegetable\")"
   ]
  },
  {
   "cell_type": "markdown",
   "metadata": {},
   "source": [
    "# |One liner Conditions"
   ]
  },
  {
   "cell_type": "code",
   "execution_count": 29,
   "metadata": {},
   "outputs": [
    {
     "name": "stdout",
     "output_type": "stream",
     "text": [
      "Name is ok\n"
     ]
    }
   ],
   "source": [
    "name = input(\"enter your name:\")\n",
    "if len(name) > 10:\n",
    "    print(\"Name too big\")\n",
    "else:\n",
    "    print(\"Name is ok\")"
   ]
  },
  {
   "cell_type": "code",
   "execution_count": 30,
   "metadata": {},
   "outputs": [
    {
     "name": "stdout",
     "output_type": "stream",
     "text": [
      "name is ok\n"
     ]
    }
   ],
   "source": [
    "print(\"name too big\") if len(name) > 10 else print(\"name is ok\")"
   ]
  },
  {
   "cell_type": "code",
   "execution_count": 32,
   "metadata": {},
   "outputs": [
    {
     "name": "stdout",
     "output_type": "stream",
     "text": [
      "Great\n"
     ]
    }
   ],
   "source": [
    "if a > 5: print('Great')"
   ]
  },
  {
   "cell_type": "code",
   "execution_count": null,
   "metadata": {},
   "outputs": [],
   "source": []
  }
 ],
 "metadata": {
  "interpreter": {
   "hash": "ac59ebe37160ed0dfa835113d9b8498d9f09ceb179beaac4002f036b9467c963"
  },
  "kernelspec": {
   "display_name": "Python 3.9.7 64-bit",
   "language": "python",
   "name": "python3"
  },
  "language_info": {
   "codemirror_mode": {
    "name": "ipython",
    "version": 3
   },
   "file_extension": ".py",
   "mimetype": "text/x-python",
   "name": "python",
   "nbconvert_exporter": "python",
   "pygments_lexer": "ipython3",
   "version": "3.9.7"
  },
  "orig_nbformat": 4
 },
 "nbformat": 4,
 "nbformat_minor": 2
}
