{
 "cells": [
  {
   "cell_type": "markdown",
   "metadata": {},
   "source": [
    "# set\n",
    "### properties\n",
    "- is unordered\n",
    "- is unindexed\n",
    "- is mutable (dynamic can only store immutable data)\n",
    "- is heterogenous (can store diffrent datatype element)\n",
    "- is represented by square bracket `{ }`\n",
    "- has a function called `set()` \n",
    "- hold only unique elements\n",
    "- cannot be nested\n"
   ]
  },
  {
   "cell_type": "markdown",
   "metadata": {},
   "source": [
    "# what u need to learn\n",
    "- create \n",
    "- loop ` | & - ^ `\n",
    "- operations\n",
    "- functions\n",
    "- comprehension\n",
    "- map and filter\n"
   ]
  },
  {
   "cell_type": "code",
   "execution_count": null,
   "metadata": {},
   "outputs": [],
   "source": [
    "# empty set will not be {}\n",
    "x = set() \n",
    "print(x)\n",
    "# single element set\n",
    "x = {1} \n",
    "print(x)\n",
    "# multi element set\n",
    "x = {12,23,321,312,312,} \n",
    "print(x)"
   ]
  },
  {
   "cell_type": "code",
   "execution_count": null,
   "metadata": {},
   "outputs": [],
   "source": [
    "a = [1,2,3,3,12,31,31,3,123,12,312,3,123,12,3]\n",
    "print(set(a))"
   ]
  },
  {
   "cell_type": "code",
   "execution_count": null,
   "metadata": {},
   "outputs": [],
   "source": [
    "a = \"Albert Eienstien\"\n",
    "print(set(a))"
   ]
  },
  {
   "cell_type": "code",
   "execution_count": null,
   "metadata": {},
   "outputs": [],
   "source": [
    "x = {1,2,3,\"Abc\",\"bbc\",(1,2,3,4),(2,2)}\n",
    "print(x)"
   ]
  },
  {
   "cell_type": "code",
   "execution_count": null,
   "metadata": {},
   "outputs": [],
   "source": [
    "x = {[1,2,3],{1,2,3}}"
   ]
  },
  {
   "cell_type": "code",
   "execution_count": null,
   "metadata": {},
   "outputs": [],
   "source": [
    "for item in x:\n",
    "    print(item)"
   ]
  },
  {
   "cell_type": "code",
   "execution_count": null,
   "metadata": {},
   "outputs": [],
   "source": [
    "a = {12,1,1,1,1,2,2,2,2,3,3,3,3}\n",
    "for i in a:\n",
    "    print(i)"
   ]
  },
  {
   "cell_type": "code",
   "execution_count": 13,
   "metadata": {},
   "outputs": [
    {
     "data": {
      "text/plain": [
       "{1, 2, 3, 4}"
      ]
     },
     "execution_count": 13,
     "metadata": {},
     "output_type": "execute_result"
    }
   ],
   "source": [
    "# operations in set\n",
    "a = {1,2,3,4}\n",
    "b = {2,1,2,3}\n",
    "a | b # union"
   ]
  },
  {
   "cell_type": "code",
   "execution_count": 14,
   "metadata": {},
   "outputs": [
    {
     "data": {
      "text/plain": [
       "{1, 2, 3, 4, 5, 6}"
      ]
     },
     "execution_count": 14,
     "metadata": {},
     "output_type": "execute_result"
    }
   ],
   "source": [
    "a = {1,2,3,4}\n",
    "b = {2,1,2,3}\n",
    "c = {2,3,5,6}\n",
    "a | b | c # union"
   ]
  },
  {
   "cell_type": "code",
   "execution_count": 33,
   "metadata": {},
   "outputs": [
    {
     "name": "stdout",
     "output_type": "stream",
     "text": [
      "{'HawkEye', 'Falcon', 'Captain America', 'Ironman', 'Hulk', 'Winter Soldier', 'Black Widow', 'Thor'}\n"
     ]
    }
   ],
   "source": [
    "avengers = {'Ironman','Captain America','Black Widow','HawkEye','Thor','Hulk'}\n",
    "caws = {'Captain America','Winter Soldier','Black Widow','Falcon'}\n",
    "cacw = {'Captain America','Winter Soldier','Black Widow','Falcon',\n",
    "        'Ironman','Captain America','Black Widow','HawkEye','Spiderman','Ant man',\n",
    "        \"Black panther\",'Vision','Scarlet Witch'}\n",
    "z= 5\n",
    "# union\n",
    "print(avengers | caws)"
   ]
  },
  {
   "cell_type": "code",
   "execution_count": 20,
   "metadata": {},
   "outputs": [
    {
     "name": "stdout",
     "output_type": "stream",
     "text": [
      "{'Black Widow', 'Captain America'}\n"
     ]
    }
   ],
   "source": [
    "# intersection\n",
    "print(avengers & caws)"
   ]
  },
  {
   "cell_type": "code",
   "execution_count": 21,
   "metadata": {},
   "outputs": [
    {
     "name": "stdout",
     "output_type": "stream",
     "text": [
      "{'Black Widow', 'Ironman', 'Captain America', 'HawkEye'}\n"
     ]
    }
   ],
   "source": [
    "# union\n",
    "print(avengers & cacw)"
   ]
  },
  {
   "cell_type": "code",
   "execution_count": 22,
   "metadata": {},
   "outputs": [
    {
     "name": "stdout",
     "output_type": "stream",
     "text": [
      "{'Ant man', 'Falcon', 'Black panther', 'Vision', 'Spiderman', 'Winter Soldier', 'Scarlet Witch'}\n"
     ]
    }
   ],
   "source": [
    "# difference\n",
    "print(cacw - avengers)"
   ]
  },
  {
   "cell_type": "code",
   "execution_count": 27,
   "metadata": {},
   "outputs": [
    {
     "name": "stdout",
     "output_type": "stream",
     "text": [
      "{'Ant man', 'HawkEye', 'Black panther', 'Vision', 'Ironman', 'Spiderman', 'Scarlet Witch'}\n"
     ]
    }
   ],
   "source": [
    "# difference\n",
    "print(cacw - caws)"
   ]
  },
  {
   "cell_type": "code",
   "execution_count": 28,
   "metadata": {},
   "outputs": [
    {
     "name": "stdout",
     "output_type": "stream",
     "text": [
      "{'Ant man', 'Falcon', 'Black panther', 'Vision', 'Spiderman', 'Winter Soldier', 'Hulk', 'Scarlet Witch', 'Thor'}\n"
     ]
    }
   ],
   "source": [
    "# symmetric difference\n",
    "print(avengers ^ cacw)"
   ]
  },
  {
   "cell_type": "code",
   "execution_count": 36,
   "metadata": {},
   "outputs": [
    {
     "data": {
      "text/plain": [
       "True"
      ]
     },
     "execution_count": 36,
     "metadata": {},
     "output_type": "execute_result"
    }
   ],
   "source": [
    "x = {1,2,3,3,5}\n",
    "y = {2,3} # y is a subset of x , x is superset of y\n",
    "z = {3,4,5} # z in not a subset of x, also x is not a superset of z\n",
    "a = {11,21,33} # a is disjointed from x , z also y"
   ]
  },
  {
   "cell_type": "code",
   "execution_count": 37,
   "metadata": {},
   "outputs": [
    {
     "data": {
      "text/plain": [
       "True"
      ]
     },
     "execution_count": 37,
     "metadata": {},
     "output_type": "execute_result"
    }
   ],
   "source": [
    "y < x # subset of x"
   ]
  },
  {
   "cell_type": "code",
   "execution_count": 38,
   "metadata": {},
   "outputs": [
    {
     "data": {
      "text/plain": [
       "False"
      ]
     },
     "execution_count": 38,
     "metadata": {},
     "output_type": "execute_result"
    }
   ],
   "source": [
    "z < x # not subset of x"
   ]
  },
  {
   "cell_type": "code",
   "execution_count": 39,
   "metadata": {},
   "outputs": [
    {
     "data": {
      "text/plain": [
       "True"
      ]
     },
     "execution_count": 39,
     "metadata": {},
     "output_type": "execute_result"
    }
   ],
   "source": [
    "x > y # x is superset of y"
   ]
  },
  {
   "cell_type": "code",
   "execution_count": 40,
   "metadata": {},
   "outputs": [
    {
     "data": {
      "text/plain": [
       "False"
      ]
     },
     "execution_count": 40,
     "metadata": {},
     "output_type": "execute_result"
    }
   ],
   "source": [
    "x > z # x is not superset of z"
   ]
  },
  {
   "cell_type": "markdown",
   "metadata": {},
   "source": [
    "# functions\n",
    "- adding items\n",
    "    - add\n",
    "    - update\n",
    "- remove items\n",
    "    - remove\n",
    "    - pop\n",
    "    - clear\n",
    "- set theory\n",
    "    - union\n",
    "    - intersection\n",
    "    - diffrence\n",
    "    - symmetricdiffrence\n",
    "    - etc..."
   ]
  },
  {
   "cell_type": "code",
   "execution_count": 45,
   "metadata": {},
   "outputs": [
    {
     "name": "stdout",
     "output_type": "stream",
     "text": [
      "{1, 33, 11, 12, 13, 51, 52, 53, 22, 23, 62, 63}\n"
     ]
    }
   ],
   "source": [
    "a = set()\n",
    "a.add(1)\n",
    "a.add(12)\n",
    "a.add(13)\n",
    "a.add(23)\n",
    "a.add(13)\n",
    "a.update([1,62,63]) # list\n",
    "a.update((11,22,33)) # tuple\n",
    "a.update({51,52,53}) # set\n",
    "print(a)"
   ]
  },
  {
   "cell_type": "code",
   "execution_count": 47,
   "metadata": {},
   "outputs": [
    {
     "data": {
      "text/plain": [
       "{1, 11, 12, 13}"
      ]
     },
     "execution_count": 47,
     "metadata": {},
     "output_type": "execute_result"
    }
   ],
   "source": [
    "a.intersection_update([1,11,12,13,13,14])\n",
    "a"
   ]
  },
  {
   "cell_type": "code",
   "execution_count": 48,
   "metadata": {},
   "outputs": [
    {
     "data": {
      "text/plain": [
       "{1, 12, 13}"
      ]
     },
     "execution_count": 48,
     "metadata": {},
     "output_type": "execute_result"
    }
   ],
   "source": [
    "a.remove(11)\n",
    "a"
   ]
  },
  {
   "cell_type": "code",
   "execution_count": 50,
   "metadata": {},
   "outputs": [
    {
     "data": {
      "text/plain": [
       "{1, 12, 13}"
      ]
     },
     "execution_count": 50,
     "metadata": {},
     "output_type": "execute_result"
    }
   ],
   "source": [
    "if 10 in a:\n",
    "    a.remove(10)\n",
    "a"
   ]
  },
  {
   "cell_type": "code",
   "execution_count": 53,
   "metadata": {},
   "outputs": [
    {
     "data": {
      "text/plain": [
       "{12, 13}"
      ]
     },
     "execution_count": 53,
     "metadata": {},
     "output_type": "execute_result"
    }
   ],
   "source": [
    "a.pop()\n",
    "a"
   ]
  },
  {
   "cell_type": "code",
   "execution_count": 55,
   "metadata": {},
   "outputs": [
    {
     "data": {
      "text/plain": [
       "'Ant man'"
      ]
     },
     "execution_count": 55,
     "metadata": {},
     "output_type": "execute_result"
    }
   ],
   "source": [
    "cacw.pop()"
   ]
  },
  {
   "cell_type": "code",
   "execution_count": 58,
   "metadata": {},
   "outputs": [
    {
     "data": {
      "text/plain": [
       "set()"
      ]
     },
     "execution_count": 58,
     "metadata": {},
     "output_type": "execute_result"
    }
   ],
   "source": [
    "a.clear()\n",
    "a"
   ]
  },
  {
   "cell_type": "code",
   "execution_count": 59,
   "metadata": {},
   "outputs": [
    {
     "data": {
      "text/plain": [
       "{'Black Widow',\n",
       " 'Captain America',\n",
       " 'Falcon',\n",
       " 'HawkEye',\n",
       " 'Hulk',\n",
       " 'Ironman',\n",
       " 'Thor',\n",
       " 'Winter Soldier'}"
      ]
     },
     "execution_count": 59,
     "metadata": {},
     "output_type": "execute_result"
    }
   ],
   "source": [
    "caws.union(avengers)"
   ]
  },
  {
   "cell_type": "code",
   "execution_count": 60,
   "metadata": {},
   "outputs": [
    {
     "data": {
      "text/plain": [
       "{'Black Widow', 'Captain America', 'Falcon', 'Winter Soldier'}"
      ]
     },
     "execution_count": 60,
     "metadata": {},
     "output_type": "execute_result"
    }
   ],
   "source": [
    "caws.intersection(cacw)"
   ]
  },
  {
   "cell_type": "code",
   "execution_count": 61,
   "metadata": {},
   "outputs": [
    {
     "data": {
      "text/plain": [
       "set()"
      ]
     },
     "execution_count": 61,
     "metadata": {},
     "output_type": "execute_result"
    }
   ],
   "source": [
    "caws.difference(cacw)"
   ]
  },
  {
   "cell_type": "code",
   "execution_count": 63,
   "metadata": {},
   "outputs": [
    {
     "data": {
      "text/plain": [
       "{'Black panther',\n",
       " 'Falcon',\n",
       " 'Hulk',\n",
       " 'Scarlet Witch',\n",
       " 'Spiderman',\n",
       " 'Thor',\n",
       " 'Vision',\n",
       " 'Winter Soldier'}"
      ]
     },
     "execution_count": 63,
     "metadata": {},
     "output_type": "execute_result"
    }
   ],
   "source": [
    "avengers.symmetric_difference(cacw)"
   ]
  },
  {
   "cell_type": "code",
   "execution_count": 65,
   "metadata": {},
   "outputs": [
    {
     "data": {
      "text/plain": [
       "{'Black Widow', 'Captain America', 'HawkEye', 'Hulk', 'Ironman', 'Thor'}"
      ]
     },
     "execution_count": 65,
     "metadata": {},
     "output_type": "execute_result"
    }
   ],
   "source": [
    "avengers.discard('Hulka')\n",
    "avengers"
   ]
  },
  {
   "cell_type": "code",
   "execution_count": 70,
   "metadata": {},
   "outputs": [
    {
     "data": {
      "text/plain": [
       "True"
      ]
     },
     "execution_count": 70,
     "metadata": {},
     "output_type": "execute_result"
    }
   ],
   "source": [
    "b.issubset(x)"
   ]
  },
  {
   "cell_type": "code",
   "execution_count": 72,
   "metadata": {},
   "outputs": [
    {
     "name": "stdout",
     "output_type": "stream",
     "text": [
      "{1, 2, 3} {1, 2, 3, 5}\n"
     ]
    }
   ],
   "source": [
    "print(b, x)"
   ]
  },
  {
   "cell_type": "code",
   "execution_count": 75,
   "metadata": {},
   "outputs": [
    {
     "name": "stdout",
     "output_type": "stream",
     "text": [
      "True\n",
      "{1, 2, 3, 5} {1, 2, 3}\n"
     ]
    }
   ],
   "source": [
    "print(x.issuperset(b))\n",
    "print(x,b)"
   ]
  },
  {
   "cell_type": "code",
   "execution_count": 76,
   "metadata": {},
   "outputs": [
    {
     "data": {
      "text/plain": [
       "False"
      ]
     },
     "execution_count": 76,
     "metadata": {},
     "output_type": "execute_result"
    }
   ],
   "source": [
    "x.isdisjoint(b)"
   ]
  },
  {
   "cell_type": "code",
   "execution_count": 77,
   "metadata": {},
   "outputs": [
    {
     "data": {
      "text/plain": [
       "True"
      ]
     },
     "execution_count": 77,
     "metadata": {},
     "output_type": "execute_result"
    }
   ],
   "source": [
    "x.isdisjoint(avengers)"
   ]
  },
  {
   "cell_type": "code",
   "execution_count": 78,
   "metadata": {},
   "outputs": [
    {
     "data": {
      "text/plain": [
       "{1, 2, 3}"
      ]
     },
     "execution_count": 78,
     "metadata": {},
     "output_type": "execute_result"
    }
   ],
   "source": [
    "x & b"
   ]
  },
  {
   "cell_type": "code",
   "execution_count": 89,
   "metadata": {},
   "outputs": [
    {
     "name": "stdout",
     "output_type": "stream",
     "text": [
      "[9, 8, 4, 8, 1, 7, 10, 2, 8, 9, 7, 10, 6, 3, 1, 1, 2, 5, 7, 7, 10, 4, 7, 8, 6, 3, 6, 1, 10, 5, 9, 1, 6, 7, 3, 7, 5, 9, 4, 6, 6, 2, 10, 9, 1, 4, 1, 6, 3, 2, 4, 7, 1, 5, 9, 3, 4, 2, 4, 1, 1, 6, 10, 1, 9, 9, 2, 2, 1, 3, 3, 8, 2, 7, 6, 5, 2, 3, 1, 5, 1, 5, 3, 4, 6, 8, 3, 3, 9, 1, 6, 2, 4, 7, 7, 5, 10, 6, 3]\n"
     ]
    }
   ],
   "source": [
    "import random\n",
    "x = []\n",
    "for i in range(1,100):\n",
    "    x.append(random.randint(1,10))\n",
    "print(x)"
   ]
  },
  {
   "cell_type": "code",
   "execution_count": 90,
   "metadata": {},
   "outputs": [
    {
     "data": {
      "text/plain": [
       "[1, 2, 3, 4, 5, 6, 7, 8, 9, 10]"
      ]
     },
     "execution_count": 90,
     "metadata": {},
     "output_type": "execute_result"
    }
   ],
   "source": [
    "x = list(set(x)) # this is removal of duplicate from list\n",
    "x"
   ]
  },
  {
   "cell_type": "code",
   "execution_count": 95,
   "metadata": {},
   "outputs": [],
   "source": [
    "x10 = {i*10 for i in x} # comprehension"
   ]
  },
  {
   "cell_type": "code",
   "execution_count": 96,
   "metadata": {},
   "outputs": [
    {
     "data": {
      "text/plain": [
       "{1, 4, 9, 16, 25, 36, 49, 64, 81, 100}"
      ]
     },
     "execution_count": 96,
     "metadata": {},
     "output_type": "execute_result"
    }
   ],
   "source": [
    "x2= set(map(lambda i: i **2, x))\n",
    "x2"
   ]
  },
  {
   "cell_type": "markdown",
   "metadata": {},
   "source": []
  }
 ],
 "metadata": {
  "interpreter": {
   "hash": "ac59ebe37160ed0dfa835113d9b8498d9f09ceb179beaac4002f036b9467c963"
  },
  "kernelspec": {
   "display_name": "Python 3.9.7 64-bit",
   "language": "python",
   "name": "python3"
  },
  "language_info": {
   "codemirror_mode": {
    "name": "ipython",
    "version": 3
   },
   "file_extension": ".py",
   "mimetype": "text/x-python",
   "name": "python",
   "nbconvert_exporter": "python",
   "pygments_lexer": "ipython3",
   "version": "3.9.7"
  },
  "orig_nbformat": 4
 },
 "nbformat": 4,
 "nbformat_minor": 2
}
