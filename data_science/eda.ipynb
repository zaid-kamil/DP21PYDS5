{
 "cells": [
  {
   "cell_type": "code",
   "execution_count": null,
   "metadata": {},
   "outputs": [],
   "source": [
    "import pandas as pd\n",
    "import matplotlib.pyplot as plt\n",
    "import numpy as np"
   ]
  },
  {
   "cell_type": "code",
   "execution_count": null,
   "metadata": {},
   "outputs": [],
   "source": [
    "print(plt.style.available)"
   ]
  },
  {
   "cell_type": "code",
   "execution_count": null,
   "metadata": {},
   "outputs": [],
   "source": [
    "pd.set_option('display.max_columns',None)\n",
    "plt.rcParams['figure.figsize'] = 20,7 # size of a plot\n",
    "plt.style.use(\"seaborn\")              # theme of plot"
   ]
  },
  {
   "cell_type": "markdown",
   "metadata": {},
   "source": [
    "#### load the cleaned data"
   ]
  },
  {
   "cell_type": "code",
   "execution_count": null,
   "metadata": {},
   "outputs": [],
   "source": [
    "df = pd.read_csv('cleaned_automobile.csv')"
   ]
  },
  {
   "cell_type": "code",
   "execution_count": null,
   "metadata": {},
   "outputs": [],
   "source": [
    "df.head(2)"
   ]
  },
  {
   "cell_type": "code",
   "execution_count": 56,
   "metadata": {},
   "outputs": [
    {
     "name": "stdout",
     "output_type": "stream",
     "text": [
      "<class 'pandas.core.frame.DataFrame'>\n",
      "RangeIndex: 205 entries, 0 to 204\n",
      "Data columns (total 24 columns):\n",
      " #   Column             Non-Null Count  Dtype  \n",
      "---  ------             --------------  -----  \n",
      " 0   make               205 non-null    object \n",
      " 1   fuel-type          205 non-null    object \n",
      " 2   aspiration         205 non-null    object \n",
      " 3   num-of-doors       205 non-null    object \n",
      " 4   body-style         205 non-null    object \n",
      " 5   drive-wheels       205 non-null    object \n",
      " 6   engine-location    205 non-null    object \n",
      " 7   wheel-base         205 non-null    float64\n",
      " 8   length             205 non-null    float64\n",
      " 9   width              205 non-null    float64\n",
      " 10  height             205 non-null    float64\n",
      " 11  curb-weight        205 non-null    int64  \n",
      " 12  engine-type        205 non-null    object \n",
      " 13  num-of-cylinders   205 non-null    object \n",
      " 14  engine-size        205 non-null    int64  \n",
      " 15  fuel-system        205 non-null    object \n",
      " 16  bore               205 non-null    float64\n",
      " 17  stroke             205 non-null    float64\n",
      " 18  compression-ratio  205 non-null    float64\n",
      " 19  horsepower         205 non-null    float64\n",
      " 20  peak-rpm           205 non-null    float64\n",
      " 21  city-mpg           205 non-null    int64  \n",
      " 22  highway-mpg        205 non-null    int64  \n",
      " 23  price              205 non-null    float64\n",
      "dtypes: float64(10), int64(4), object(10)\n",
      "memory usage: 38.6+ KB\n"
     ]
    }
   ],
   "source": [
    "df.info()"
   ]
  },
  {
   "cell_type": "markdown",
   "metadata": {},
   "source": [
    "### explore columns"
   ]
  },
  {
   "cell_type": "code",
   "execution_count": null,
   "metadata": {},
   "outputs": [],
   "source": [
    "df['make'] # displays series"
   ]
  },
  {
   "cell_type": "code",
   "execution_count": null,
   "metadata": {},
   "outputs": [],
   "source": [
    "df['make'].value_counts()"
   ]
  },
  {
   "cell_type": "code",
   "execution_count": null,
   "metadata": {},
   "outputs": [],
   "source": [
    "df['make'].value_counts().plot(kind='bar',color=['red','orange'],)"
   ]
  },
  {
   "cell_type": "code",
   "execution_count": null,
   "metadata": {},
   "outputs": [],
   "source": [
    "print(df['make'].unique())"
   ]
  },
  {
   "cell_type": "code",
   "execution_count": null,
   "metadata": {},
   "outputs": [],
   "source": [
    "print(df['make'].nunique())"
   ]
  },
  {
   "cell_type": "code",
   "execution_count": null,
   "metadata": {},
   "outputs": [],
   "source": [
    "df.info()"
   ]
  },
  {
   "cell_type": "markdown",
   "metadata": {},
   "source": [
    "#### Task- Take all the categorical columns and find the most frequent and least frequent item. also the number of unique values in that column. Take the columns as object for categorical evaluation."
   ]
  },
  {
   "cell_type": "markdown",
   "metadata": {},
   "source": [
    "# 23 - Jan - 2022"
   ]
  },
  {
   "cell_type": "code",
   "execution_count": null,
   "metadata": {},
   "outputs": [],
   "source": [
    "df.describe(include='object') # for categorical data"
   ]
  },
  {
   "cell_type": "code",
   "execution_count": null,
   "metadata": {},
   "outputs": [],
   "source": [
    "df.describe() # for only numeric columns"
   ]
  },
  {
   "cell_type": "markdown",
   "metadata": {},
   "source": [
    "# EDA visualization\n",
    "- ### Univariate Analysis ( Single variable analysis )\n",
    "    - categorical data\n",
    "    - numerical data\n",
    "- ### Bivariate/Multivariate Analysis (Double or more variable analysis)\n",
    "    - Numerical & Numerical\n",
    "    - Numerical & Categorical\n",
    "    - Categorical & Categorical"
   ]
  },
  {
   "cell_type": "markdown",
   "metadata": {},
   "source": [
    "goto cmd and run this\n",
    "```shell\n",
    "pip install seaborn\n",
    "```"
   ]
  },
  {
   "cell_type": "code",
   "execution_count": null,
   "metadata": {},
   "outputs": [],
   "source": [
    "import seaborn as sns\n",
    "sns.set(font_scale=1.3)"
   ]
  },
  {
   "cell_type": "code",
   "execution_count": null,
   "metadata": {},
   "outputs": [],
   "source": [
    "sns.countplot(x='drive-wheels',data=df)\n",
    "plt.show()"
   ]
  },
  {
   "cell_type": "code",
   "execution_count": null,
   "metadata": {},
   "outputs": [],
   "source": [
    "cat_col = df.describe(include='object').columns.tolist()"
   ]
  },
  {
   "cell_type": "code",
   "execution_count": null,
   "metadata": {},
   "outputs": [],
   "source": [
    "for col in cat_col:\n",
    "    sns.countplot(x=col,data=df)\n",
    "    plt.xticks(rotation=90)\n",
    "    plt.show()"
   ]
  },
  {
   "cell_type": "code",
   "execution_count": null,
   "metadata": {},
   "outputs": [],
   "source": [
    "df['price'].hist(bins=20)"
   ]
  },
  {
   "cell_type": "code",
   "execution_count": null,
   "metadata": {},
   "outputs": [],
   "source": [
    "sns.displot(x='horsepower',data=df,kind='hist',aspect=2,bins=5)\n",
    "plt.show()"
   ]
  },
  {
   "cell_type": "code",
   "execution_count": null,
   "metadata": {},
   "outputs": [],
   "source": [
    "sns.displot(x='stroke',data=df,kind='hist',aspect=2,bins=5)\n",
    "plt.show()"
   ]
  },
  {
   "cell_type": "code",
   "execution_count": 52,
   "metadata": {},
   "outputs": [
    {
     "data": {
      "text/plain": [
       "<AxesSubplot:>"
      ]
     },
     "execution_count": 52,
     "metadata": {},
     "output_type": "execute_result"
    },
    {
     "data": {
      "image/png": "[encoded data removed]",
      "text/plain": [
       "<Figure size 576x396 with 1 Axes>"
      ]
     },
     "metadata": {},
     "output_type": "display_data"
    }
   ],
   "source": [
    "df['price'].plot(kind='box')"
   ]
  },
  {
   "cell_type": "code",
   "execution_count": 58,
   "metadata": {},
   "outputs": [
    {
     "data": {
      "text/plain": [
       "<AxesSubplot:>"
      ]
     },
     "execution_count": 58,
     "metadata": {},
     "output_type": "execute_result"
    },
    {
     "data": {
      "image/png": "[encoded data removed]",
      "text/plain": [
       "<Figure size 576x396 with 1 Axes>"
      ]
     },
     "metadata": {},
     "output_type": "display_data"
    }
   ],
   "source": [
    "cols = ['city-mpg','highway-mpg']\n",
    "df[cols].plot(kind='box')"
   ]
  },
  {
   "cell_type": "markdown",
   "metadata": {},
   "source": [
    "open cmd and run\n",
    "```shell\n",
    "pip install openpyxl\n",
    "```\n",
    "for reading excel data"
   ]
  },
  {
   "cell_type": "code",
   "execution_count": 61,
   "metadata": {},
   "outputs": [
    {
     "data": {
      "text/html": [
       "<div>\n",
       "<style scoped>\n",
       "    .dataframe tbody tr th:only-of-type {\n",
       "        vertical-align: middle;\n",
       "    }\n",
       "\n",
       "    .dataframe tbody tr th {\n",
       "        vertical-align: top;\n",
       "    }\n",
       "\n",
       "    .dataframe thead th {\n",
       "        text-align: right;\n",
       "    }\n",
       "</style>\n",
       "<table border=\"1\" class=\"dataframe\">\n",
       "  <thead>\n",
       "    <tr style=\"text-align: right;\">\n",
       "      <th></th>\n",
       "      <th>Year</th>\n",
       "      <th>Month</th>\n",
       "      <th>Rainfall</th>\n",
       "      <th>humidity</th>\n",
       "      <th>pressure</th>\n",
       "    </tr>\n",
       "  </thead>\n",
       "  <tbody>\n",
       "    <tr>\n",
       "      <th>0</th>\n",
       "      <td>2001</td>\n",
       "      <td>jan</td>\n",
       "      <td>90</td>\n",
       "      <td>low</td>\n",
       "      <td>32</td>\n",
       "    </tr>\n",
       "    <tr>\n",
       "      <th>1</th>\n",
       "      <td>2001</td>\n",
       "      <td>feb</td>\n",
       "      <td>200</td>\n",
       "      <td>high</td>\n",
       "      <td>123</td>\n",
       "    </tr>\n",
       "    <tr>\n",
       "      <th>2</th>\n",
       "      <td>2001</td>\n",
       "      <td>mar</td>\n",
       "      <td>5</td>\n",
       "      <td>low</td>\n",
       "      <td>23</td>\n",
       "    </tr>\n",
       "    <tr>\n",
       "      <th>3</th>\n",
       "      <td>2001</td>\n",
       "      <td>apr</td>\n",
       "      <td>83</td>\n",
       "      <td>high</td>\n",
       "      <td>1232</td>\n",
       "    </tr>\n",
       "    <tr>\n",
       "      <th>4</th>\n",
       "      <td>2001</td>\n",
       "      <td>may</td>\n",
       "      <td>193</td>\n",
       "      <td>low</td>\n",
       "      <td>3</td>\n",
       "    </tr>\n",
       "    <tr>\n",
       "      <th>5</th>\n",
       "      <td>2001</td>\n",
       "      <td>jun</td>\n",
       "      <td>59</td>\n",
       "      <td>high</td>\n",
       "      <td>23</td>\n",
       "    </tr>\n",
       "    <tr>\n",
       "      <th>6</th>\n",
       "      <td>2001</td>\n",
       "      <td>jul</td>\n",
       "      <td>168</td>\n",
       "      <td>low</td>\n",
       "      <td>2</td>\n",
       "    </tr>\n",
       "    <tr>\n",
       "      <th>7</th>\n",
       "      <td>2001</td>\n",
       "      <td>aug</td>\n",
       "      <td>94</td>\n",
       "      <td>high</td>\n",
       "      <td>32</td>\n",
       "    </tr>\n",
       "    <tr>\n",
       "      <th>8</th>\n",
       "      <td>2001</td>\n",
       "      <td>sep</td>\n",
       "      <td>154</td>\n",
       "      <td>low</td>\n",
       "      <td>13</td>\n",
       "    </tr>\n",
       "    <tr>\n",
       "      <th>9</th>\n",
       "      <td>2001</td>\n",
       "      <td>oct</td>\n",
       "      <td>117</td>\n",
       "      <td>high</td>\n",
       "      <td>3</td>\n",
       "    </tr>\n",
       "    <tr>\n",
       "      <th>10</th>\n",
       "      <td>2001</td>\n",
       "      <td>nov</td>\n",
       "      <td>16</td>\n",
       "      <td>low</td>\n",
       "      <td>123</td>\n",
       "    </tr>\n",
       "    <tr>\n",
       "      <th>11</th>\n",
       "      <td>2001</td>\n",
       "      <td>dec</td>\n",
       "      <td>171</td>\n",
       "      <td>high</td>\n",
       "      <td>123</td>\n",
       "    </tr>\n",
       "    <tr>\n",
       "      <th>12</th>\n",
       "      <td>2002</td>\n",
       "      <td>jan</td>\n",
       "      <td>188</td>\n",
       "      <td>low</td>\n",
       "      <td>12</td>\n",
       "    </tr>\n",
       "    <tr>\n",
       "      <th>13</th>\n",
       "      <td>2002</td>\n",
       "      <td>feb</td>\n",
       "      <td>155</td>\n",
       "      <td>high</td>\n",
       "      <td>3</td>\n",
       "    </tr>\n",
       "    <tr>\n",
       "      <th>14</th>\n",
       "      <td>2002</td>\n",
       "      <td>mar</td>\n",
       "      <td>59</td>\n",
       "      <td>low</td>\n",
       "      <td>123</td>\n",
       "    </tr>\n",
       "    <tr>\n",
       "      <th>15</th>\n",
       "      <td>2002</td>\n",
       "      <td>apr</td>\n",
       "      <td>200</td>\n",
       "      <td>high</td>\n",
       "      <td>123</td>\n",
       "    </tr>\n",
       "    <tr>\n",
       "      <th>16</th>\n",
       "      <td>2002</td>\n",
       "      <td>may</td>\n",
       "      <td>138</td>\n",
       "      <td>low</td>\n",
       "      <td>1</td>\n",
       "    </tr>\n",
       "    <tr>\n",
       "      <th>17</th>\n",
       "      <td>2002</td>\n",
       "      <td>jun</td>\n",
       "      <td>42</td>\n",
       "      <td>high</td>\n",
       "      <td>23</td>\n",
       "    </tr>\n",
       "    <tr>\n",
       "      <th>18</th>\n",
       "      <td>2002</td>\n",
       "      <td>jul</td>\n",
       "      <td>88</td>\n",
       "      <td>low</td>\n",
       "      <td>12</td>\n",
       "    </tr>\n",
       "    <tr>\n",
       "      <th>19</th>\n",
       "      <td>2002</td>\n",
       "      <td>aug</td>\n",
       "      <td>124</td>\n",
       "      <td>high</td>\n",
       "      <td>312</td>\n",
       "    </tr>\n",
       "    <tr>\n",
       "      <th>20</th>\n",
       "      <td>2002</td>\n",
       "      <td>sep</td>\n",
       "      <td>44</td>\n",
       "      <td>low</td>\n",
       "      <td>31</td>\n",
       "    </tr>\n",
       "    <tr>\n",
       "      <th>21</th>\n",
       "      <td>2002</td>\n",
       "      <td>oct</td>\n",
       "      <td>107</td>\n",
       "      <td>high</td>\n",
       "      <td>23</td>\n",
       "    </tr>\n",
       "    <tr>\n",
       "      <th>22</th>\n",
       "      <td>2002</td>\n",
       "      <td>nov</td>\n",
       "      <td>40</td>\n",
       "      <td>low</td>\n",
       "      <td>1</td>\n",
       "    </tr>\n",
       "    <tr>\n",
       "      <th>23</th>\n",
       "      <td>2002</td>\n",
       "      <td>dec</td>\n",
       "      <td>187</td>\n",
       "      <td>high</td>\n",
       "      <td>31</td>\n",
       "    </tr>\n",
       "    <tr>\n",
       "      <th>24</th>\n",
       "      <td>2003</td>\n",
       "      <td>jan</td>\n",
       "      <td>179</td>\n",
       "      <td>low</td>\n",
       "      <td>31</td>\n",
       "    </tr>\n",
       "    <tr>\n",
       "      <th>25</th>\n",
       "      <td>2003</td>\n",
       "      <td>feb</td>\n",
       "      <td>51</td>\n",
       "      <td>high</td>\n",
       "      <td>45</td>\n",
       "    </tr>\n",
       "    <tr>\n",
       "      <th>26</th>\n",
       "      <td>2003</td>\n",
       "      <td>mar</td>\n",
       "      <td>131</td>\n",
       "      <td>low</td>\n",
       "      <td>12</td>\n",
       "    </tr>\n",
       "    <tr>\n",
       "      <th>27</th>\n",
       "      <td>2003</td>\n",
       "      <td>apr</td>\n",
       "      <td>137</td>\n",
       "      <td>high</td>\n",
       "      <td>31</td>\n",
       "    </tr>\n",
       "    <tr>\n",
       "      <th>28</th>\n",
       "      <td>2003</td>\n",
       "      <td>may</td>\n",
       "      <td>3</td>\n",
       "      <td>low</td>\n",
       "      <td>21</td>\n",
       "    </tr>\n",
       "    <tr>\n",
       "      <th>29</th>\n",
       "      <td>2003</td>\n",
       "      <td>jun</td>\n",
       "      <td>17</td>\n",
       "      <td>high</td>\n",
       "      <td>23</td>\n",
       "    </tr>\n",
       "    <tr>\n",
       "      <th>30</th>\n",
       "      <td>2003</td>\n",
       "      <td>jul</td>\n",
       "      <td>20</td>\n",
       "      <td>low</td>\n",
       "      <td>23</td>\n",
       "    </tr>\n",
       "    <tr>\n",
       "      <th>31</th>\n",
       "      <td>2003</td>\n",
       "      <td>aug</td>\n",
       "      <td>114</td>\n",
       "      <td>high</td>\n",
       "      <td>23</td>\n",
       "    </tr>\n",
       "    <tr>\n",
       "      <th>32</th>\n",
       "      <td>2003</td>\n",
       "      <td>sep</td>\n",
       "      <td>173</td>\n",
       "      <td>low</td>\n",
       "      <td>21</td>\n",
       "    </tr>\n",
       "    <tr>\n",
       "      <th>33</th>\n",
       "      <td>2003</td>\n",
       "      <td>oct</td>\n",
       "      <td>101</td>\n",
       "      <td>high</td>\n",
       "      <td>123</td>\n",
       "    </tr>\n",
       "    <tr>\n",
       "      <th>34</th>\n",
       "      <td>2003</td>\n",
       "      <td>nov</td>\n",
       "      <td>59</td>\n",
       "      <td>low</td>\n",
       "      <td>32</td>\n",
       "    </tr>\n",
       "    <tr>\n",
       "      <th>35</th>\n",
       "      <td>2003</td>\n",
       "      <td>dec</td>\n",
       "      <td>165</td>\n",
       "      <td>high</td>\n",
       "      <td>23</td>\n",
       "    </tr>\n",
       "  </tbody>\n",
       "</table>\n",
       "</div>"
      ],
      "text/plain": [
       "    Year Month  Rainfall humidity  pressure\n",
       "0   2001   jan        90      low        32\n",
       "1   2001   feb       200     high       123\n",
       "2   2001   mar         5      low        23\n",
       "3   2001   apr        83     high      1232\n",
       "4   2001   may       193      low         3\n",
       "5   2001   jun        59     high        23\n",
       "6   2001   jul       168      low         2\n",
       "7   2001   aug        94     high        32\n",
       "8   2001   sep       154      low        13\n",
       "9   2001   oct       117     high         3\n",
       "10  2001   nov        16      low       123\n",
       "11  2001   dec       171     high       123\n",
       "12  2002   jan       188      low        12\n",
       "13  2002   feb       155     high         3\n",
       "14  2002   mar        59      low       123\n",
       "15  2002   apr       200     high       123\n",
       "16  2002   may       138      low         1\n",
       "17  2002   jun        42     high        23\n",
       "18  2002   jul        88      low        12\n",
       "19  2002   aug       124     high       312\n",
       "20  2002   sep        44      low        31\n",
       "21  2002   oct       107     high        23\n",
       "22  2002   nov        40      low         1\n",
       "23  2002   dec       187     high        31\n",
       "24  2003   jan       179      low        31\n",
       "25  2003   feb        51     high        45\n",
       "26  2003   mar       131      low        12\n",
       "27  2003   apr       137     high        31\n",
       "28  2003   may         3      low        21\n",
       "29  2003   jun        17     high        23\n",
       "30  2003   jul        20      low        23\n",
       "31  2003   aug       114     high        23\n",
       "32  2003   sep       173      low        21\n",
       "33  2003   oct       101     high       123\n",
       "34  2003   nov        59      low        32\n",
       "35  2003   dec       165     high        23"
      ]
     },
     "execution_count": 61,
     "metadata": {},
     "output_type": "execute_result"
    }
   ],
   "source": [
    "pd.read_excel('dummy_rainfall.xlsx')"
   ]
  },
  {
   "cell_type": "code",
   "execution_count": null,
   "metadata": {},
   "outputs": [],
   "source": []
  }
 ],
 "metadata": {
  "interpreter": {
   "hash": "a97921bd90c3d55a32a886721a37b372c256037231aec0c43f2c56267f01744c"
  },
  "kernelspec": {
   "display_name": "Python 3.9.7 64-bit ('study': conda)",
   "language": "python",
   "name": "python3"
  },
  "language_info": {
   "codemirror_mode": {
    "name": "ipython",
    "version": 3
   },
   "file_extension": ".py",
   "mimetype": "text/x-python",
   "name": "python",
   "nbconvert_exporter": "python",
   "pygments_lexer": "ipython3",
   "version": "3.9.7"
  },
  "orig_nbformat": 4
 },
 "nbformat": 4,
 "nbformat_minor": 2
}
