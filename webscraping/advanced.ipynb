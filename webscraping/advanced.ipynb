{
 "cells": [
  {
   "cell_type": "code",
   "execution_count": 75,
   "metadata": {},
   "outputs": [],
   "source": [
    "from selenium import webdriver\n",
    "from webdriver_manager.chrome import ChromeDriverManager\n",
    "from selenium.webdriver.common.by import By"
   ]
  },
  {
   "cell_type": "code",
   "execution_count": null,
   "metadata": {},
   "outputs": [],
   "source": [
    "driver = webdriver.Chrome(ChromeDriverManager().install())"
   ]
  },
  {
   "cell_type": "code",
   "execution_count": null,
   "metadata": {},
   "outputs": [],
   "source": [
    "webpage = \"https://www.amazon.in/dp/B08VB57558?ref_=Oct_DLandingS_D_0cbd775c_NA\"\n",
    "driver.get(webpage)"
   ]
  },
  {
   "cell_type": "code",
   "execution_count": null,
   "metadata": {},
   "outputs": [],
   "source": [
    "link_obj = driver.find_element(By.CSS_SELECTOR,'.a-link-emphasis')\n",
    "link = link_obj.get_attribute('href')\n",
    "driver.get(link)"
   ]
  },
  {
   "cell_type": "code",
   "execution_count": null,
   "metadata": {},
   "outputs": [],
   "source": [
    "review_area = driver.find_element(By.CSS_SELECTOR,'#cm_cr-review_list')"
   ]
  },
  {
   "cell_type": "code",
   "execution_count": null,
   "metadata": {},
   "outputs": [],
   "source": [
    "review_list = review_area.find_elements(By.CSS_SELECTOR,'.review')"
   ]
  },
  {
   "cell_type": "code",
   "execution_count": null,
   "metadata": {},
   "outputs": [],
   "source": [
    "for review in review_list:\n",
    "    user = review.find_element(By.CSS_SELECTOR, 'span.a-profile-name')\n",
    "    content = review.find_element(By.CSS_SELECTOR,'span.review-text')\n",
    "    print(user.text,len(content.text.split()),'words of review')"
   ]
  },
  {
   "cell_type": "code",
   "execution_count": null,
   "metadata": {},
   "outputs": [],
   "source": [
    "nxt_pg_link = driver.find_element(By.CSS_SELECTOR, 'li.a-last > a').get_attribute('href')\n",
    "driver.get(nxt_pg_link)"
   ]
  },
  {
   "cell_type": "markdown",
   "metadata": {},
   "source": [
    "# PUTTING all together"
   ]
  },
  {
   "cell_type": "code",
   "execution_count": null,
   "metadata": {},
   "outputs": [],
   "source": [
    "def launch(url):\n",
    "    driver = webdriver.Chrome(ChromeDriverManager().install())\n",
    "    webpage = url\n",
    "    driver.get(webpage)\n",
    "    link_obj = driver.find_element(By.CSS_SELECTOR,'.a-link-emphasis')\n",
    "    link = link_obj.get_attribute('href')\n",
    "    driver.get(link) # load the product review\n",
    "    return driver"
   ]
  },
  {
   "cell_type": "code",
   "execution_count": null,
   "metadata": {},
   "outputs": [],
   "source": [
    "def extract(start_point):\n",
    "    driver = start_point\n",
    "    nxt_pg_link = None\n",
    "    while True:\n",
    "        if nxt_pg_link:\n",
    "            print(\"going to\")\n",
    "            print(nxt_pg_link)\n",
    "            driver.get(nxt_pg_link)\n",
    "        review_area = driver.find_element(By.CSS_SELECTOR,'#cm_cr-review_list')\n",
    "        review_list = review_area.find_elements(By.CSS_SELECTOR,'.review')\n",
    "        if not review_list:\n",
    "            break\n",
    "        for review in review_list:\n",
    "            user = review.find_element(By.CSS_SELECTOR, 'span.a-profile-name')\n",
    "            content = review.find_element(By.CSS_SELECTOR,'span.review-text')\n",
    "            # database saving logic implement\n",
    "            print(user.text,len(content.text.split()),'words of review')\n",
    "        try:\n",
    "            nxt_pg_link = driver.find_element(By.CSS_SELECTOR, 'li.a-last > a').get_attribute('href')\n",
    "        except:\n",
    "            print(\"no next page available\")\n",
    "            break\n",
    "        "
   ]
  },
  {
   "cell_type": "code",
   "execution_count": null,
   "metadata": {},
   "outputs": [],
   "source": [
    "driver = launch('https://www.amazon.in/UBON-Headphones-Lightweight-Tangle-Free-Pink/dp/B09QPPJBSG/ref=sr_1_5?qid=1644756392&refinements=p_72%3A1318479031&rnid=1318475031&s=electronics&sr=1-5&th=1')\n",
    "extract(driver)\n",
    "driver.close()"
   ]
  },
  {
   "cell_type": "code",
   "execution_count": null,
   "metadata": {},
   "outputs": [],
   "source": []
  }
 ],
 "metadata": {
  "interpreter": {
   "hash": "26d6d95e799f68a0680bea77b17a4e3218da601be7d02863e2950dbe63a5be85"
  },
  "kernelspec": {
   "display_name": "Python 3.9.5 ('base')",
   "language": "python",
   "name": "python3"
  },
  "language_info": {
   "codemirror_mode": {
    "name": "ipython",
    "version": 3
   },
   "file_extension": ".py",
   "mimetype": "text/x-python",
   "name": "python",
   "nbconvert_exporter": "python",
   "pygments_lexer": "ipython3",
   "version": "3.9.5"
  },
  "orig_nbformat": 4
 },
 "nbformat": 4,
 "nbformat_minor": 2
}
