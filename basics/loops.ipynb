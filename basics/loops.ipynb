{
 "cells": [
  {
   "cell_type": "markdown",
   "metadata": {},
   "source": [
    "# this is a bad code"
   ]
  },
  {
   "cell_type": "code",
   "execution_count": null,
   "metadata": {},
   "outputs": [],
   "source": [
    "\n",
    "x = int(input('X:'))\n",
    "y = int(input('Y:'))\n",
    "s = x + y\n",
    "print(\"total\", s)\n",
    "x = int(input('X:'))\n",
    "y = int(input('Y:'))\n",
    "s = x + y\n",
    "print(\"total\", s)\n",
    "x = int(input('X:'))\n",
    "y = int(input('Y:'))\n",
    "s = x + y\n",
    "print(\"total\", s)\n",
    "x = int(input('X:'))\n",
    "y = int(input('Y:'))\n",
    "s = x + y\n",
    "print(\"total\", s)\n",
    "x = int(input('X:'))\n",
    "y = int(input('Y:'))\n",
    "s = x + y\n",
    "print(\"total\", s)\n"
   ]
  },
  {
   "cell_type": "markdown",
   "metadata": {},
   "source": [
    "# Loops\n",
    "\n",
    "- ## for \n",
    "    - the number of repetetion is known\n",
    "    - loops run according to iterable (any item that contains multiple subitems)\n",
    "    ```\n",
    "    for temp in iterable:\n",
    "        statement 1\n",
    "        statement 2\n",
    "        ...\n",
    "        statement n\n",
    "    ```\n",
    "- ## while\n",
    "    the number of repetetion is based on condition\n",
    "    ```\n",
    "    while expression:\n",
    "        statement 1\n",
    "        statement 2\n",
    "        ...\n",
    "        statement n\n",
    "    ```"
   ]
  },
  {
   "cell_type": "code",
   "execution_count": null,
   "metadata": {},
   "outputs": [],
   "source": [
    "for i in range(5):\n",
    "    print('Loop code')"
   ]
  },
  {
   "cell_type": "code",
   "execution_count": null,
   "metadata": {},
   "outputs": [],
   "source": [
    "for i in range(5):\n",
    "    x = int(input('X:'))\n",
    "    y = int(input('Y:'))\n",
    "    s = x + y\n",
    "    print(\"total\", s)"
   ]
  },
  {
   "cell_type": "markdown",
   "metadata": {},
   "source": [
    "end = line change k liye"
   ]
  },
  {
   "cell_type": "code",
   "execution_count": null,
   "metadata": {},
   "outputs": [],
   "source": [
    "for i in range(10):\n",
    "    print(i,end=' ')"
   ]
  },
  {
   "cell_type": "code",
   "execution_count": null,
   "metadata": {},
   "outputs": [],
   "source": [
    "for i in range(5,25):\n",
    "    print(i, end=' ')"
   ]
  },
  {
   "cell_type": "code",
   "execution_count": null,
   "metadata": {},
   "outputs": [],
   "source": [
    "for i in range(5, 26, 2):\n",
    "    print(i, end=' ')"
   ]
  },
  {
   "cell_type": "code",
   "execution_count": null,
   "metadata": {},
   "outputs": [],
   "source": [
    "for i in range(5,101,5):\n",
    "    print(i, end=' ')"
   ]
  },
  {
   "cell_type": "code",
   "execution_count": null,
   "metadata": {},
   "outputs": [],
   "source": [
    "for i in range(10,0,-1):\n",
    "    print(i, end=' ')"
   ]
  },
  {
   "cell_type": "markdown",
   "metadata": {},
   "source": [
    "displaying only numbers divisble by 5 and 7 in a loop"
   ]
  },
  {
   "cell_type": "code",
   "execution_count": null,
   "metadata": {},
   "outputs": [],
   "source": [
    "total = 0\n",
    "for i in range(1,1000):\n",
    "    if i % 5 == 0 and i % 7 == 0:\n",
    "        total+= i\n",
    "print(\"TOTAL\",total)\n"
   ]
  },
  {
   "cell_type": "markdown",
   "metadata": {},
   "source": [
    "### Print the total of all even numbers from 1 - 15000"
   ]
  },
  {
   "cell_type": "code",
   "execution_count": null,
   "metadata": {},
   "outputs": [],
   "source": [
    "total =  0 \n",
    "for i in range(1,15000):\n",
    "    if i % 2==0:\n",
    "        total+=i\n",
    "print(total)"
   ]
  },
  {
   "cell_type": "code",
   "execution_count": null,
   "metadata": {},
   "outputs": [],
   "source": [
    "sum(range(2,15000,2))"
   ]
  },
  {
   "cell_type": "markdown",
   "metadata": {},
   "source": [
    "## Iterating Data Structures\n",
    "ex: String , List, set, etc"
   ]
  },
  {
   "cell_type": "code",
   "execution_count": null,
   "metadata": {},
   "outputs": [],
   "source": [
    "name = \"Alexander Maximus\"\n",
    "for char in name:\n",
    "    print(char)"
   ]
  },
  {
   "cell_type": "code",
   "execution_count": null,
   "metadata": {},
   "outputs": [],
   "source": [
    "words = [\"We\", \"are\", \"going\", \"to\", 'eat', 'the', 'Pizza']\n",
    "for word in words:\n",
    "    print(word)"
   ]
  },
  {
   "cell_type": "code",
   "execution_count": null,
   "metadata": {},
   "outputs": [],
   "source": [
    "for word in words:\n",
    "    print(word, len(word))"
   ]
  },
  {
   "cell_type": "code",
   "execution_count": null,
   "metadata": {},
   "outputs": [],
   "source": [
    "data = [[1,2,3], [4,5,6], [7,8,9]]\n",
    "\n",
    "for item in data:\n",
    "    print(item)"
   ]
  },
  {
   "cell_type": "code",
   "execution_count": null,
   "metadata": {},
   "outputs": [],
   "source": [
    "for items in data:\n",
    "    for value in items:\n",
    "        print(value, end=' ')"
   ]
  },
  {
   "cell_type": "markdown",
   "metadata": {},
   "source": [
    "### Questions\n",
    "- WAP to print the average of a list given below [12,1,23,34,45,56,23,12]\n",
    "- WAP to print the min and max from a list given [2,3,1,23,5,45,657,23,23,12]\n",
    "- WAP to take input from user 10 times and then calculate total and average"
   ]
  },
  {
   "cell_type": "markdown",
   "metadata": {},
   "source": [
    "# While "
   ]
  },
  {
   "cell_type": "code",
   "execution_count": null,
   "metadata": {},
   "outputs": [],
   "source": [
    "num = int(input('Enter a number:'))\n",
    "while num > 0:\n",
    "    print(\"in Loop\")\n",
    "    num -= 1\n",
    "print(\"Loop closed\")"
   ]
  },
  {
   "cell_type": "code",
   "execution_count": null,
   "metadata": {},
   "outputs": [],
   "source": [
    "while input(\">>\") == \"y\":\n",
    "    print(\"this is a loop\")"
   ]
  },
  {
   "cell_type": "code",
   "execution_count": 4,
   "metadata": {},
   "outputs": [
    {
     "name": "stdout",
     "output_type": "stream",
     "text": [
      "91023 + 12312 = 103335\n",
      "123 + 122 = 245\n"
     ]
    }
   ],
   "source": [
    "while input(\"Add Numbers(Y/N)\") == \"y\":\n",
    "    a = int(input(\"Enter Number 1:\"))\n",
    "    b = int(input(\"Enter Number 2:\"))\n",
    "    print(f'{a} + {b} = {a+b}')"
   ]
  },
  {
   "cell_type": "markdown",
   "metadata": {},
   "source": [
    "calculate the grade of students and their percentage from marks based on 5 subjects"
   ]
  },
  {
   "cell_type": "code",
   "execution_count": 9,
   "metadata": {},
   "outputs": [
    {
     "name": "stdout",
     "output_type": "stream",
     "text": [
      "Your Report:\n",
      "TOTAL: 485\n",
      "PERCENTAGE: 97.0%\n",
      "GRADE: A\n",
      "**********\n"
     ]
    }
   ],
   "source": [
    "while input(\"Calculate Marks\") == \"yes\":\n",
    "    eng = int(input(\"English Marks:\"))\n",
    "    hin = int(input(\"Hindi Marks:\"))\n",
    "    maths = int(input(\"Maths Marks:\"))\n",
    "    sci = int(input(\"Science Marks:\"))\n",
    "    evs = int(input(\"Evs Marks:\"))\n",
    "    total = eng + hin + maths + sci + evs\n",
    "    perc = total / 5\n",
    "    print(\"Your Report:\")\n",
    "    print(f\"TOTAL: {total}\")\n",
    "    print(f\"PERCENTAGE: {perc}%\")\n",
    "    if perc > 80:\n",
    "        grade = \"A\"\n",
    "    elif perc > 60 and perc <= 80:\n",
    "        grade = \"B\"\n",
    "    elif perc > 40 and perc <= 60:\n",
    "        grade = \"C\"\n",
    "    else:\n",
    "        grade = \"F\"\n",
    "    print(f\"GRADE: {grade}\")\n",
    "    print(\"*\" * 10)"
   ]
  },
  {
   "cell_type": "markdown",
   "metadata": {},
   "source": [
    "# break and continue keywords\n",
    "- break is used for stopping the loop during an execution\n",
    "- continue is used for skipping a loop execution"
   ]
  },
  {
   "cell_type": "code",
   "execution_count": 11,
   "metadata": {},
   "outputs": [
    {
     "name": "stdout",
     "output_type": "stream",
     "text": [
      ">>cherry\n"
     ]
    }
   ],
   "source": [
    "# infinte loop with always true condition\n",
    "while True: \n",
    "    name = input(\"enter name of fav fruit\")\n",
    "    if len(name) < 3:       \n",
    "        break               # stop the loop\n",
    "    print(f\">>{name}\")"
   ]
  },
  {
   "cell_type": "code",
   "execution_count": 12,
   "metadata": {},
   "outputs": [
    {
     "name": "stdout",
     "output_type": "stream",
     "text": [
      "1802 amt spend\n"
     ]
    }
   ],
   "source": [
    "# infinite loop with continue\n",
    "total = 0\n",
    "while True:\n",
    "    amt = input(\"enter amount spend\")\n",
    "    if amt.isnumeric():\n",
    "        amt =  int(amt)\n",
    "        if amt < 100:\n",
    "            continue  # skip\n",
    "        total += amt\n",
    "    else:\n",
    "        break\n",
    "print(f\"{total} amt spend\")"
   ]
  },
  {
   "cell_type": "code",
   "execution_count": 14,
   "metadata": {},
   "outputs": [
    {
     "name": "stdout",
     "output_type": "stream",
     "text": [
      "10 20 30 10 50 220 120 20 "
     ]
    }
   ],
   "source": [
    "x = [10,20,30,0,10,50,0,220,0,120,0,20]\n",
    "for i in x:\n",
    "    if i == 0:\n",
    "        continue\n",
    "    print(i,end=\" \")\n"
   ]
  },
  {
   "cell_type": "code",
   "execution_count": null,
   "metadata": {},
   "outputs": [],
   "source": []
  }
 ],
 "metadata": {
  "interpreter": {
   "hash": "ac59ebe37160ed0dfa835113d9b8498d9f09ceb179beaac4002f036b9467c963"
  },
  "kernelspec": {
   "display_name": "Python 3.9.7 64-bit",
   "language": "python",
   "name": "python3"
  },
  "language_info": {
   "codemirror_mode": {
    "name": "ipython",
    "version": 3
   },
   "file_extension": ".py",
   "mimetype": "text/x-python",
   "name": "python",
   "nbconvert_exporter": "python",
   "pygments_lexer": "ipython3",
   "version": "3.9.7"
  },
  "orig_nbformat": 4
 },
 "nbformat": 4,
 "nbformat_minor": 2
}
