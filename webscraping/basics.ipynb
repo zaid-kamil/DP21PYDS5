{
 "cells": [
  {
   "cell_type": "code",
   "execution_count": 1,
   "metadata": {},
   "outputs": [],
   "source": [
    "import requests\n",
    "from bs4 import BeautifulSoup"
   ]
  },
  {
   "cell_type": "code",
   "execution_count": 2,
   "metadata": {},
   "outputs": [],
   "source": [
    "top_box_office_data_link = 'https://www.imdb.com/chart/boxoffice/?ref_=nv_ch_cht'"
   ]
  },
  {
   "cell_type": "code",
   "execution_count": 3,
   "metadata": {},
   "outputs": [
    {
     "name": "stdout",
     "output_type": "stream",
     "text": [
      "200\n"
     ]
    }
   ],
   "source": [
    "page = requests.get(top_box_office_data_link)\n",
    "print(page.status_code)"
   ]
  },
  {
   "cell_type": "code",
   "execution_count": 4,
   "metadata": {},
   "outputs": [],
   "source": [
    "soup = BeautifulSoup(page.text,\"lxml\")"
   ]
  },
  {
   "cell_type": "code",
   "execution_count": 5,
   "metadata": {},
   "outputs": [
    {
     "data": {
      "text/plain": [
       "<h1 class=\"header\">Top Box Office (US)</h1>"
      ]
     },
     "execution_count": 5,
     "metadata": {},
     "output_type": "execute_result"
    }
   ],
   "source": [
    "soup.h1"
   ]
  },
  {
   "cell_type": "code",
   "execution_count": 6,
   "metadata": {},
   "outputs": [],
   "source": [
    "section = soup.find('div',{'class':'article'})"
   ]
  },
  {
   "cell_type": "code",
   "execution_count": 7,
   "metadata": {},
   "outputs": [],
   "source": [
    "databody = section.find('tbody')"
   ]
  },
  {
   "cell_type": "code",
   "execution_count": 8,
   "metadata": {},
   "outputs": [
    {
     "data": {
      "text/plain": [
       "10"
      ]
     },
     "execution_count": 8,
     "metadata": {},
     "output_type": "execute_result"
    }
   ],
   "source": [
    "movielist = databody.find_all('tr')\n",
    "len(movielist)"
   ]
  },
  {
   "cell_type": "code",
   "execution_count": 9,
   "metadata": {},
   "outputs": [
    {
     "name": "stdout",
     "output_type": "stream",
     "text": [
      "name: Jackass Forever\n",
      "weekly: $23.2M\n",
      "gross: $23.2M\n",
      "weeks 1\n",
      "------------------------------\n",
      "name: Moonfall\n",
      "weekly: $9.9M\n",
      "gross: $9.9M\n",
      "weeks 1\n",
      "------------------------------\n",
      "name: Spider-Man: No Way Home\n",
      "weekly: $9.5M\n",
      "gross: $748.9M\n",
      "weeks 8\n",
      "------------------------------\n",
      "name: Scream\n",
      "weekly: $4.8M\n",
      "gross: $69.0M\n",
      "weeks 4\n",
      "------------------------------\n",
      "name: Sing 2\n",
      "weekly: $4.2M\n",
      "gross: $139.6M\n",
      "weeks 7\n",
      "------------------------------\n",
      "name: The King's Man\n",
      "weekly: $1.2M\n",
      "gross: $35.8M\n",
      "weeks 7\n",
      "------------------------------\n",
      "name: Redeeming Love\n",
      "weekly: $1.0M\n",
      "gross: $8.1M\n",
      "weeks 3\n",
      "------------------------------\n",
      "name: American Underdog\n",
      "weekly: $781K\n",
      "gross: $25.9M\n",
      "weeks 7\n",
      "------------------------------\n",
      "name: The 355\n",
      "weekly: $698K\n",
      "gross: $14.2M\n",
      "weeks 5\n",
      "------------------------------\n",
      "name: Licorice Pizza\n",
      "weekly: $645K\n",
      "gross: $12.7M\n",
      "weeks 11\n",
      "------------------------------\n"
     ]
    }
   ],
   "source": [
    "for movie in movielist:\n",
    "    title =  movie.find(\"td\",{'class':'titleColumn'})\n",
    "    ratings = movie.find_all('td',{'class':'ratingColumn'})\n",
    "    weeks = movie.find('td',{'class':'weeksColumn'})\n",
    "    print(\"name:\",title.text.strip())\n",
    "    print(\"weekly:\",ratings[0].text.strip())\n",
    "    print(\"gross:\",ratings[1].text.strip())\n",
    "    print(\"weeks\",weeks.text.strip())\n",
    "    print(\"---\"*10)"
   ]
  },
  {
   "cell_type": "code",
   "execution_count": 10,
   "metadata": {},
   "outputs": [
    {
     "name": "stdout",
     "output_type": "stream",
     "text": [
      "saved as crappy_data_file.tsv\n"
     ]
    }
   ],
   "source": [
    "with open('crappy_data_file.tsv','w') as file:\n",
    "    for movie in movielist:\n",
    "        title =  movie.find(\"td\",{'class':'titleColumn'})\n",
    "        ratings = movie.find_all('td',{'class':'ratingColumn'})\n",
    "        weeks = movie.find('td',{'class':'weeksColumn'})\n",
    "        file.write(f\"{title.text.strip()}\\t{ratings[0].text.strip()}\\t{ratings[1].text.strip()}\\t{weeks.text}\\n\")\n",
    "    print(\"saved as crappy_data_file.tsv\")"
   ]
  },
  {
   "cell_type": "code",
   "execution_count": 11,
   "metadata": {},
   "outputs": [],
   "source": [
    "import pandas as pd"
   ]
  },
  {
   "cell_type": "code",
   "execution_count": 12,
   "metadata": {},
   "outputs": [
    {
     "data": {
      "text/html": [
       "<div>\n",
       "<style scoped>\n",
       "    .dataframe tbody tr th:only-of-type {\n",
       "        vertical-align: middle;\n",
       "    }\n",
       "\n",
       "    .dataframe tbody tr th {\n",
       "        vertical-align: top;\n",
       "    }\n",
       "\n",
       "    .dataframe thead th {\n",
       "        text-align: right;\n",
       "    }\n",
       "</style>\n",
       "<table border=\"1\" class=\"dataframe\">\n",
       "  <thead>\n",
       "    <tr style=\"text-align: right;\">\n",
       "      <th></th>\n",
       "      <th>0</th>\n",
       "      <th>1</th>\n",
       "      <th>2</th>\n",
       "      <th>3</th>\n",
       "    </tr>\n",
       "  </thead>\n",
       "  <tbody>\n",
       "    <tr>\n",
       "      <th>0</th>\n",
       "      <td>Jackass Forever</td>\n",
       "      <td>$23.2M</td>\n",
       "      <td>$23.2M</td>\n",
       "      <td>1</td>\n",
       "    </tr>\n",
       "    <tr>\n",
       "      <th>1</th>\n",
       "      <td>Moonfall</td>\n",
       "      <td>$9.9M</td>\n",
       "      <td>$9.9M</td>\n",
       "      <td>1</td>\n",
       "    </tr>\n",
       "    <tr>\n",
       "      <th>2</th>\n",
       "      <td>Spider-Man: No Way Home</td>\n",
       "      <td>$9.5M</td>\n",
       "      <td>$748.9M</td>\n",
       "      <td>8</td>\n",
       "    </tr>\n",
       "    <tr>\n",
       "      <th>3</th>\n",
       "      <td>Scream</td>\n",
       "      <td>$4.8M</td>\n",
       "      <td>$69.0M</td>\n",
       "      <td>4</td>\n",
       "    </tr>\n",
       "    <tr>\n",
       "      <th>4</th>\n",
       "      <td>Sing 2</td>\n",
       "      <td>$4.2M</td>\n",
       "      <td>$139.6M</td>\n",
       "      <td>7</td>\n",
       "    </tr>\n",
       "    <tr>\n",
       "      <th>5</th>\n",
       "      <td>The King's Man</td>\n",
       "      <td>$1.2M</td>\n",
       "      <td>$35.8M</td>\n",
       "      <td>7</td>\n",
       "    </tr>\n",
       "    <tr>\n",
       "      <th>6</th>\n",
       "      <td>Redeeming Love</td>\n",
       "      <td>$1.0M</td>\n",
       "      <td>$8.1M</td>\n",
       "      <td>3</td>\n",
       "    </tr>\n",
       "    <tr>\n",
       "      <th>7</th>\n",
       "      <td>American Underdog</td>\n",
       "      <td>$781K</td>\n",
       "      <td>$25.9M</td>\n",
       "      <td>7</td>\n",
       "    </tr>\n",
       "    <tr>\n",
       "      <th>8</th>\n",
       "      <td>The 355</td>\n",
       "      <td>$698K</td>\n",
       "      <td>$14.2M</td>\n",
       "      <td>5</td>\n",
       "    </tr>\n",
       "    <tr>\n",
       "      <th>9</th>\n",
       "      <td>Licorice Pizza</td>\n",
       "      <td>$645K</td>\n",
       "      <td>$12.7M</td>\n",
       "      <td>11</td>\n",
       "    </tr>\n",
       "  </tbody>\n",
       "</table>\n",
       "</div>"
      ],
      "text/plain": [
       "                         0       1        2   3\n",
       "0          Jackass Forever  $23.2M   $23.2M   1\n",
       "1                 Moonfall   $9.9M    $9.9M   1\n",
       "2  Spider-Man: No Way Home   $9.5M  $748.9M   8\n",
       "3                   Scream   $4.8M   $69.0M   4\n",
       "4                   Sing 2   $4.2M  $139.6M   7\n",
       "5           The King's Man   $1.2M   $35.8M   7\n",
       "6           Redeeming Love   $1.0M    $8.1M   3\n",
       "7        American Underdog   $781K   $25.9M   7\n",
       "8                  The 355   $698K   $14.2M   5\n",
       "9           Licorice Pizza   $645K   $12.7M  11"
      ]
     },
     "execution_count": 12,
     "metadata": {},
     "output_type": "execute_result"
    }
   ],
   "source": [
    "pd.read_csv('crappy_data_file.tsv',sep='\\t',header=None)"
   ]
  },
  {
   "cell_type": "code",
   "execution_count": null,
   "metadata": {},
   "outputs": [],
   "source": []
  }
 ],
 "metadata": {
  "interpreter": {
   "hash": "26d6d95e799f68a0680bea77b17a4e3218da601be7d02863e2950dbe63a5be85"
  },
  "kernelspec": {
   "display_name": "Python 3.9.5 ('base')",
   "language": "python",
   "name": "python3"
  },
  "language_info": {
   "codemirror_mode": {
    "name": "ipython",
    "version": 3
   },
   "file_extension": ".py",
   "mimetype": "text/x-python",
   "name": "python",
   "nbconvert_exporter": "python",
   "pygments_lexer": "ipython3",
   "version": "3.9.5"
  },
  "orig_nbformat": 4
 },
 "nbformat": 4,
 "nbformat_minor": 2
}
